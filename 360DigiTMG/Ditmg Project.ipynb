{
 "cells": [
  {
   "cell_type": "code",
   "execution_count": 1,
   "id": "604fd46c",
   "metadata": {},
   "outputs": [
    {
     "name": "stdout",
     "output_type": "stream",
     "text": [
      "Requirement already satisfied: psycopg2 in c:\\users\\72013\\anaconda3\\lib\\site-packages (2.9.6)\n",
      "Note: you may need to restart the kernel to use updated packages.\n"
     ]
    }
   ],
   "source": [
    "pip install psycopg2"
   ]
  },
  {
   "cell_type": "code",
   "execution_count": 2,
   "id": "d16d8524",
   "metadata": {},
   "outputs": [],
   "source": [
    "import pandas as pd\n",
    "import psycopg2 as ps"
   ]
  },
  {
   "cell_type": "code",
   "execution_count": 3,
   "id": "a627f190",
   "metadata": {},
   "outputs": [
    {
     "name": "stdout",
     "output_type": "stream",
     "text": [
      "Note: you may need to restart the kernel to use updated packages.\n"
     ]
    },
    {
     "name": "stderr",
     "output_type": "stream",
     "text": [
      "ERROR: Could not find a version that satisfies the requirement pandas.io.sql (from versions: none)\n",
      "ERROR: No matching distribution found for pandas.io.sql\n"
     ]
    }
   ],
   "source": [
    "pip install pandas.io.sql"
   ]
  },
  {
   "cell_type": "code",
   "execution_count": 4,
   "id": "6626b7a0",
   "metadata": {},
   "outputs": [],
   "source": [
    "import pandas.io.sql as psq"
   ]
  },
  {
   "cell_type": "code",
   "execution_count": 6,
   "id": "1fd4932c",
   "metadata": {},
   "outputs": [],
   "source": [
    "conn2=ps.connect(dbname=\"Project\",\n",
    "\n",
    "               user=\"postgres\",password= \"1234\",host=\"localhost\",\n",
    "\n",
    "                port=\"5432\")"
   ]
  },
  {
   "cell_type": "code",
   "execution_count": 7,
   "id": "f1cedd8e",
   "metadata": {},
   "outputs": [],
   "source": [
    "sql = '''select * from raw_data'''"
   ]
  },
  {
   "cell_type": "code",
   "execution_count": 8,
   "id": "8f813df3",
   "metadata": {},
   "outputs": [
    {
     "name": "stderr",
     "output_type": "stream",
     "text": [
      "C:\\Users\\72013\\AppData\\Local\\Temp\\ipykernel_17112\\1876392380.py:1: UserWarning: pandas only supports SQLAlchemy connectable (engine/connection) or database string URI or sqlite3 DBAPI2 connection. Other DBAPI2 objects are not tested. Please consider using SQLAlchemy.\n",
      "  df=psq.read_sql_query(sql,conn2)\n"
     ]
    },
    {
     "data": {
      "text/html": [
       "<div>\n",
       "<style scoped>\n",
       "    .dataframe tbody tr th:only-of-type {\n",
       "        vertical-align: middle;\n",
       "    }\n",
       "\n",
       "    .dataframe tbody tr th {\n",
       "        vertical-align: top;\n",
       "    }\n",
       "\n",
       "    .dataframe thead th {\n",
       "        text-align: right;\n",
       "    }\n",
       "</style>\n",
       "<table border=\"1\" class=\"dataframe\">\n",
       "  <thead>\n",
       "    <tr style=\"text-align: right;\">\n",
       "      <th></th>\n",
       "      <th>date</th>\n",
       "      <th>machine_id</th>\n",
       "      <th>assembly_line_no</th>\n",
       "      <th>hydraulic_pressure</th>\n",
       "      <th>coolant_pressure</th>\n",
       "      <th>air_system_pressure</th>\n",
       "      <th>coolant_temperature</th>\n",
       "      <th>hydraulic_oil_temperature</th>\n",
       "      <th>spindle_bearing_temperature</th>\n",
       "      <th>spindle_vibration</th>\n",
       "      <th>tool_vibration</th>\n",
       "      <th>spindle_speed</th>\n",
       "      <th>voltage</th>\n",
       "      <th>torque</th>\n",
       "      <th>cutting</th>\n",
       "      <th>downtime</th>\n",
       "    </tr>\n",
       "  </thead>\n",
       "  <tbody>\n",
       "    <tr>\n",
       "      <th>0</th>\n",
       "      <td>31-12-2021</td>\n",
       "      <td>Makino-L1-Unit1-2013</td>\n",
       "      <td>Shopfloor-L1</td>\n",
       "      <td>71.040000</td>\n",
       "      <td>6.933725</td>\n",
       "      <td>6.284965</td>\n",
       "      <td>25.6</td>\n",
       "      <td>46.0</td>\n",
       "      <td>33.4</td>\n",
       "      <td>1.291</td>\n",
       "      <td>26.492</td>\n",
       "      <td>25892.0</td>\n",
       "      <td>335.0</td>\n",
       "      <td>24.055326</td>\n",
       "      <td>3.58</td>\n",
       "      <td>Machine_Failure</td>\n",
       "    </tr>\n",
       "    <tr>\n",
       "      <th>1</th>\n",
       "      <td>31-12-2021</td>\n",
       "      <td>Makino-L1-Unit1-2013</td>\n",
       "      <td>Shopfloor-L1</td>\n",
       "      <td>125.330000</td>\n",
       "      <td>4.936892</td>\n",
       "      <td>6.196733</td>\n",
       "      <td>35.3</td>\n",
       "      <td>47.4</td>\n",
       "      <td>34.6</td>\n",
       "      <td>1.382</td>\n",
       "      <td>25.274</td>\n",
       "      <td>19856.0</td>\n",
       "      <td>368.0</td>\n",
       "      <td>14.202890</td>\n",
       "      <td>2.68</td>\n",
       "      <td>Machine_Failure</td>\n",
       "    </tr>\n",
       "    <tr>\n",
       "      <th>2</th>\n",
       "      <td>31-12-2021</td>\n",
       "      <td>Makino-L3-Unit1-2015</td>\n",
       "      <td>Shopfloor-L3</td>\n",
       "      <td>71.120000</td>\n",
       "      <td>6.839413</td>\n",
       "      <td>6.655448</td>\n",
       "      <td>13.1</td>\n",
       "      <td>40.7</td>\n",
       "      <td>33.0</td>\n",
       "      <td>1.319</td>\n",
       "      <td>30.608</td>\n",
       "      <td>19851.0</td>\n",
       "      <td>325.0</td>\n",
       "      <td>24.049267</td>\n",
       "      <td>3.55</td>\n",
       "      <td>Machine_Failure</td>\n",
       "    </tr>\n",
       "    <tr>\n",
       "      <th>3</th>\n",
       "      <td>31-05-2022</td>\n",
       "      <td>Makino-L2-Unit1-2015</td>\n",
       "      <td>Shopfloor-L2</td>\n",
       "      <td>139.340000</td>\n",
       "      <td>4.574382</td>\n",
       "      <td>6.560394</td>\n",
       "      <td>24.4</td>\n",
       "      <td>44.2</td>\n",
       "      <td>40.6</td>\n",
       "      <td>0.618</td>\n",
       "      <td>30.791</td>\n",
       "      <td>18461.0</td>\n",
       "      <td>360.0</td>\n",
       "      <td>25.860029</td>\n",
       "      <td>3.55</td>\n",
       "      <td>Machine_Failure</td>\n",
       "    </tr>\n",
       "    <tr>\n",
       "      <th>4</th>\n",
       "      <td>31-03-2022</td>\n",
       "      <td>Makino-L1-Unit1-2013</td>\n",
       "      <td>Shopfloor-L1</td>\n",
       "      <td>60.510000</td>\n",
       "      <td>6.893182</td>\n",
       "      <td>6.141238</td>\n",
       "      <td>4.1</td>\n",
       "      <td>47.3</td>\n",
       "      <td>31.4</td>\n",
       "      <td>0.983</td>\n",
       "      <td>25.516</td>\n",
       "      <td>26526.0</td>\n",
       "      <td>354.0</td>\n",
       "      <td>25.515874</td>\n",
       "      <td>3.55</td>\n",
       "      <td>Machine_Failure</td>\n",
       "    </tr>\n",
       "    <tr>\n",
       "      <th>...</th>\n",
       "      <td>...</td>\n",
       "      <td>...</td>\n",
       "      <td>...</td>\n",
       "      <td>...</td>\n",
       "      <td>...</td>\n",
       "      <td>...</td>\n",
       "      <td>...</td>\n",
       "      <td>...</td>\n",
       "      <td>...</td>\n",
       "      <td>...</td>\n",
       "      <td>...</td>\n",
       "      <td>...</td>\n",
       "      <td>...</td>\n",
       "      <td>...</td>\n",
       "      <td>...</td>\n",
       "      <td>...</td>\n",
       "    </tr>\n",
       "    <tr>\n",
       "      <th>2495</th>\n",
       "      <td>1/2/2022</td>\n",
       "      <td>Makino-L1-Unit1-2013</td>\n",
       "      <td>Shopfloor-L1</td>\n",
       "      <td>112.715506</td>\n",
       "      <td>5.220885</td>\n",
       "      <td>6.196610</td>\n",
       "      <td>22.3</td>\n",
       "      <td>48.8</td>\n",
       "      <td>37.2</td>\n",
       "      <td>0.910</td>\n",
       "      <td>20.282</td>\n",
       "      <td>20974.0</td>\n",
       "      <td>282.0</td>\n",
       "      <td>22.761610</td>\n",
       "      <td>2.72</td>\n",
       "      <td>No_Machine_Failure</td>\n",
       "    </tr>\n",
       "    <tr>\n",
       "      <th>2496</th>\n",
       "      <td>1/2/2022</td>\n",
       "      <td>Makino-L1-Unit1-2013</td>\n",
       "      <td>Shopfloor-L1</td>\n",
       "      <td>103.086653</td>\n",
       "      <td>5.211886</td>\n",
       "      <td>7.074653</td>\n",
       "      <td>11.9</td>\n",
       "      <td>48.3</td>\n",
       "      <td>31.5</td>\n",
       "      <td>1.106</td>\n",
       "      <td>34.708</td>\n",
       "      <td>20951.0</td>\n",
       "      <td>319.0</td>\n",
       "      <td>22.786597</td>\n",
       "      <td>2.94</td>\n",
       "      <td>No_Machine_Failure</td>\n",
       "    </tr>\n",
       "    <tr>\n",
       "      <th>2497</th>\n",
       "      <td>1/2/2022</td>\n",
       "      <td>Makino-L2-Unit1-2015</td>\n",
       "      <td>Shopfloor-L2</td>\n",
       "      <td>118.643165</td>\n",
       "      <td>5.212991</td>\n",
       "      <td>6.530049</td>\n",
       "      <td>4.5</td>\n",
       "      <td>49.9</td>\n",
       "      <td>36.2</td>\n",
       "      <td>0.288</td>\n",
       "      <td>16.828</td>\n",
       "      <td>20958.0</td>\n",
       "      <td>335.0</td>\n",
       "      <td>22.778987</td>\n",
       "      <td>NaN</td>\n",
       "      <td>No_Machine_Failure</td>\n",
       "    </tr>\n",
       "    <tr>\n",
       "      <th>2498</th>\n",
       "      <td>1/2/2022</td>\n",
       "      <td>Makino-L3-Unit1-2015</td>\n",
       "      <td>Shopfloor-L3</td>\n",
       "      <td>145.855859</td>\n",
       "      <td>5.207777</td>\n",
       "      <td>6.402655</td>\n",
       "      <td>12.2</td>\n",
       "      <td>44.5</td>\n",
       "      <td>32.1</td>\n",
       "      <td>0.995</td>\n",
       "      <td>26.498</td>\n",
       "      <td>20935.0</td>\n",
       "      <td>376.0</td>\n",
       "      <td>22.804012</td>\n",
       "      <td>2.79</td>\n",
       "      <td>No_Machine_Failure</td>\n",
       "    </tr>\n",
       "    <tr>\n",
       "      <th>2499</th>\n",
       "      <td>1/2/2022</td>\n",
       "      <td>Makino-L2-Unit1-2015</td>\n",
       "      <td>Shopfloor-L2</td>\n",
       "      <td>96.690000</td>\n",
       "      <td>5.936610</td>\n",
       "      <td>7.109355</td>\n",
       "      <td>29.8</td>\n",
       "      <td>53.2</td>\n",
       "      <td>36.2</td>\n",
       "      <td>0.840</td>\n",
       "      <td>31.580</td>\n",
       "      <td>23576.0</td>\n",
       "      <td>385.0</td>\n",
       "      <td>24.409551</td>\n",
       "      <td>3.55</td>\n",
       "      <td>Machine_Failure</td>\n",
       "    </tr>\n",
       "  </tbody>\n",
       "</table>\n",
       "<p>2500 rows × 16 columns</p>\n",
       "</div>"
      ],
      "text/plain": [
       "            date            machine_id assembly_line_no  hydraulic_pressure  \\\n",
       "0     31-12-2021  Makino-L1-Unit1-2013     Shopfloor-L1           71.040000   \n",
       "1     31-12-2021  Makino-L1-Unit1-2013     Shopfloor-L1          125.330000   \n",
       "2     31-12-2021  Makino-L3-Unit1-2015     Shopfloor-L3           71.120000   \n",
       "3     31-05-2022  Makino-L2-Unit1-2015     Shopfloor-L2          139.340000   \n",
       "4     31-03-2022  Makino-L1-Unit1-2013     Shopfloor-L1           60.510000   \n",
       "...          ...                   ...              ...                 ...   \n",
       "2495    1/2/2022  Makino-L1-Unit1-2013     Shopfloor-L1          112.715506   \n",
       "2496    1/2/2022  Makino-L1-Unit1-2013     Shopfloor-L1          103.086653   \n",
       "2497    1/2/2022  Makino-L2-Unit1-2015     Shopfloor-L2          118.643165   \n",
       "2498    1/2/2022  Makino-L3-Unit1-2015     Shopfloor-L3          145.855859   \n",
       "2499    1/2/2022  Makino-L2-Unit1-2015     Shopfloor-L2           96.690000   \n",
       "\n",
       "      coolant_pressure  air_system_pressure  coolant_temperature  \\\n",
       "0             6.933725             6.284965                 25.6   \n",
       "1             4.936892             6.196733                 35.3   \n",
       "2             6.839413             6.655448                 13.1   \n",
       "3             4.574382             6.560394                 24.4   \n",
       "4             6.893182             6.141238                  4.1   \n",
       "...                ...                  ...                  ...   \n",
       "2495          5.220885             6.196610                 22.3   \n",
       "2496          5.211886             7.074653                 11.9   \n",
       "2497          5.212991             6.530049                  4.5   \n",
       "2498          5.207777             6.402655                 12.2   \n",
       "2499          5.936610             7.109355                 29.8   \n",
       "\n",
       "      hydraulic_oil_temperature  spindle_bearing_temperature  \\\n",
       "0                          46.0                         33.4   \n",
       "1                          47.4                         34.6   \n",
       "2                          40.7                         33.0   \n",
       "3                          44.2                         40.6   \n",
       "4                          47.3                         31.4   \n",
       "...                         ...                          ...   \n",
       "2495                       48.8                         37.2   \n",
       "2496                       48.3                         31.5   \n",
       "2497                       49.9                         36.2   \n",
       "2498                       44.5                         32.1   \n",
       "2499                       53.2                         36.2   \n",
       "\n",
       "      spindle_vibration  tool_vibration  spindle_speed  voltage     torque  \\\n",
       "0                 1.291          26.492        25892.0    335.0  24.055326   \n",
       "1                 1.382          25.274        19856.0    368.0  14.202890   \n",
       "2                 1.319          30.608        19851.0    325.0  24.049267   \n",
       "3                 0.618          30.791        18461.0    360.0  25.860029   \n",
       "4                 0.983          25.516        26526.0    354.0  25.515874   \n",
       "...                 ...             ...            ...      ...        ...   \n",
       "2495              0.910          20.282        20974.0    282.0  22.761610   \n",
       "2496              1.106          34.708        20951.0    319.0  22.786597   \n",
       "2497              0.288          16.828        20958.0    335.0  22.778987   \n",
       "2498              0.995          26.498        20935.0    376.0  22.804012   \n",
       "2499              0.840          31.580        23576.0    385.0  24.409551   \n",
       "\n",
       "      cutting            downtime  \n",
       "0        3.58     Machine_Failure  \n",
       "1        2.68     Machine_Failure  \n",
       "2        3.55     Machine_Failure  \n",
       "3        3.55     Machine_Failure  \n",
       "4        3.55     Machine_Failure  \n",
       "...       ...                 ...  \n",
       "2495     2.72  No_Machine_Failure  \n",
       "2496     2.94  No_Machine_Failure  \n",
       "2497      NaN  No_Machine_Failure  \n",
       "2498     2.79  No_Machine_Failure  \n",
       "2499     3.55     Machine_Failure  \n",
       "\n",
       "[2500 rows x 16 columns]"
      ]
     },
     "execution_count": 8,
     "metadata": {},
     "output_type": "execute_result"
    }
   ],
   "source": [
    "df=psq.read_sql_query(sql,conn2)\n",
    "\n",
    "df"
   ]
  },
  {
   "cell_type": "code",
   "execution_count": 9,
   "id": "d58eae1f",
   "metadata": {},
   "outputs": [],
   "source": [
    "import numpy as np\n",
    "import matplotlib.pyplot as plt\n",
    "import seaborn as sns"
   ]
  },
  {
   "cell_type": "code",
   "execution_count": 10,
   "id": "b08ce1a8",
   "metadata": {},
   "outputs": [
    {
     "data": {
      "text/plain": [
       "date                            0\n",
       "machine_id                      0\n",
       "assembly_line_no                0\n",
       "hydraulic_pressure             10\n",
       "coolant_pressure               19\n",
       "air_system_pressure            17\n",
       "coolant_temperature            12\n",
       "hydraulic_oil_temperature      16\n",
       "spindle_bearing_temperature     7\n",
       "spindle_vibration              11\n",
       "tool_vibration                 11\n",
       "spindle_speed                   6\n",
       "voltage                         6\n",
       "torque                         21\n",
       "cutting                         7\n",
       "downtime                        0\n",
       "dtype: int64"
      ]
     },
     "execution_count": 10,
     "metadata": {},
     "output_type": "execute_result"
    }
   ],
   "source": [
    "df.isnull().sum()"
   ]
  },
  {
   "cell_type": "code",
   "execution_count": 14,
   "id": "dcdee201",
   "metadata": {},
   "outputs": [],
   "source": [
    "hp_m, cp_m, asp_m = df['hydraulic_pressure'].mean(), df['coolant_pressure'].mean(), df['air_system_pressure'].mean()\n",
    "ct_m, hot_m = df['coolant_temperature'].mean(), df['hydraulic_oil_temperature'].mean()\n",
    "sbt_m, sv_m = df['spindle_bearing_temperature'].mean(), df['spindle_vibration'].mean()\n",
    "tv_m, ss_m, vol_m = df['tool_vibration'].mean(), int(df['spindle_speed'].mean()), int(df['voltage'].mean())\n",
    "tor_m, c_m = df['torque'].mean(), df['cutting'].mean()"
   ]
  },
  {
   "cell_type": "code",
   "execution_count": 16,
   "id": "f21e898c",
   "metadata": {},
   "outputs": [],
   "source": [
    "df['hydraulic_pressure'].fillna(hp_m,inplace=True)\n",
    "df['coolant_pressure'].fillna(cp_m,inplace=True)\n",
    "df['air_system_pressure'].fillna(asp_m,inplace=True)\n",
    "df['coolant_temperature'].fillna(ct_m,inplace=True)\n",
    "df['hydraulic_oil_temperature'].fillna(hot_m,inplace=True)\n",
    "df['spindle_bearing_temperature'].fillna(sbt_m,inplace=True)\n",
    "df['spindle_vibration'].fillna(sv_m,inplace=True)\n",
    "df['tool_vibration'].fillna(tv_m,inplace=True)\n",
    "df['spindle_speed'].fillna(ss_m,inplace=True)\n",
    "df['voltage'].fillna(vol_m,inplace=True)\n",
    "df['torque'].fillna(tor_m,inplace=True)\n",
    "df['cutting'].fillna(c_m,inplace=True)"
   ]
  },
  {
   "cell_type": "code",
   "execution_count": 17,
   "id": "cb2b57b7",
   "metadata": {},
   "outputs": [
    {
     "data": {
      "text/plain": [
       "date                           0\n",
       "machine_id                     0\n",
       "assembly_line_no               0\n",
       "hydraulic_pressure             0\n",
       "coolant_pressure               0\n",
       "air_system_pressure            0\n",
       "coolant_temperature            0\n",
       "hydraulic_oil_temperature      0\n",
       "spindle_bearing_temperature    0\n",
       "spindle_vibration              0\n",
       "tool_vibration                 0\n",
       "spindle_speed                  0\n",
       "voltage                        0\n",
       "torque                         0\n",
       "cutting                        0\n",
       "downtime                       0\n",
       "dtype: int64"
      ]
     },
     "execution_count": 17,
     "metadata": {},
     "output_type": "execute_result"
    }
   ],
   "source": [
    "df.isnull().sum()"
   ]
  },
  {
   "cell_type": "code",
   "execution_count": 19,
   "id": "74af08d1",
   "metadata": {},
   "outputs": [],
   "source": [
    "df = df.drop(['date'], axis =1)"
   ]
  },
  {
   "cell_type": "code",
   "execution_count": 20,
   "id": "59164213",
   "metadata": {},
   "outputs": [
    {
     "data": {
      "text/html": [
       "<div>\n",
       "<style scoped>\n",
       "    .dataframe tbody tr th:only-of-type {\n",
       "        vertical-align: middle;\n",
       "    }\n",
       "\n",
       "    .dataframe tbody tr th {\n",
       "        vertical-align: top;\n",
       "    }\n",
       "\n",
       "    .dataframe thead th {\n",
       "        text-align: right;\n",
       "    }\n",
       "</style>\n",
       "<table border=\"1\" class=\"dataframe\">\n",
       "  <thead>\n",
       "    <tr style=\"text-align: right;\">\n",
       "      <th></th>\n",
       "      <th>machine_id</th>\n",
       "      <th>assembly_line_no</th>\n",
       "      <th>hydraulic_pressure</th>\n",
       "      <th>coolant_pressure</th>\n",
       "      <th>air_system_pressure</th>\n",
       "      <th>coolant_temperature</th>\n",
       "      <th>hydraulic_oil_temperature</th>\n",
       "      <th>spindle_bearing_temperature</th>\n",
       "      <th>spindle_vibration</th>\n",
       "      <th>tool_vibration</th>\n",
       "      <th>spindle_speed</th>\n",
       "      <th>voltage</th>\n",
       "      <th>torque</th>\n",
       "      <th>cutting</th>\n",
       "      <th>downtime</th>\n",
       "    </tr>\n",
       "  </thead>\n",
       "  <tbody>\n",
       "    <tr>\n",
       "      <th>0</th>\n",
       "      <td>Makino-L1-Unit1-2013</td>\n",
       "      <td>Shopfloor-L1</td>\n",
       "      <td>71.04</td>\n",
       "      <td>6.933725</td>\n",
       "      <td>6.284965</td>\n",
       "      <td>25.6</td>\n",
       "      <td>46.0</td>\n",
       "      <td>33.4</td>\n",
       "      <td>1.291</td>\n",
       "      <td>26.492</td>\n",
       "      <td>25892.0</td>\n",
       "      <td>335.0</td>\n",
       "      <td>24.055326</td>\n",
       "      <td>3.58</td>\n",
       "      <td>Machine_Failure</td>\n",
       "    </tr>\n",
       "    <tr>\n",
       "      <th>1</th>\n",
       "      <td>Makino-L1-Unit1-2013</td>\n",
       "      <td>Shopfloor-L1</td>\n",
       "      <td>125.33</td>\n",
       "      <td>4.936892</td>\n",
       "      <td>6.196733</td>\n",
       "      <td>35.3</td>\n",
       "      <td>47.4</td>\n",
       "      <td>34.6</td>\n",
       "      <td>1.382</td>\n",
       "      <td>25.274</td>\n",
       "      <td>19856.0</td>\n",
       "      <td>368.0</td>\n",
       "      <td>14.202890</td>\n",
       "      <td>2.68</td>\n",
       "      <td>Machine_Failure</td>\n",
       "    </tr>\n",
       "    <tr>\n",
       "      <th>2</th>\n",
       "      <td>Makino-L3-Unit1-2015</td>\n",
       "      <td>Shopfloor-L3</td>\n",
       "      <td>71.12</td>\n",
       "      <td>6.839413</td>\n",
       "      <td>6.655448</td>\n",
       "      <td>13.1</td>\n",
       "      <td>40.7</td>\n",
       "      <td>33.0</td>\n",
       "      <td>1.319</td>\n",
       "      <td>30.608</td>\n",
       "      <td>19851.0</td>\n",
       "      <td>325.0</td>\n",
       "      <td>24.049267</td>\n",
       "      <td>3.55</td>\n",
       "      <td>Machine_Failure</td>\n",
       "    </tr>\n",
       "    <tr>\n",
       "      <th>3</th>\n",
       "      <td>Makino-L2-Unit1-2015</td>\n",
       "      <td>Shopfloor-L2</td>\n",
       "      <td>139.34</td>\n",
       "      <td>4.574382</td>\n",
       "      <td>6.560394</td>\n",
       "      <td>24.4</td>\n",
       "      <td>44.2</td>\n",
       "      <td>40.6</td>\n",
       "      <td>0.618</td>\n",
       "      <td>30.791</td>\n",
       "      <td>18461.0</td>\n",
       "      <td>360.0</td>\n",
       "      <td>25.860029</td>\n",
       "      <td>3.55</td>\n",
       "      <td>Machine_Failure</td>\n",
       "    </tr>\n",
       "    <tr>\n",
       "      <th>4</th>\n",
       "      <td>Makino-L1-Unit1-2013</td>\n",
       "      <td>Shopfloor-L1</td>\n",
       "      <td>60.51</td>\n",
       "      <td>6.893182</td>\n",
       "      <td>6.141238</td>\n",
       "      <td>4.1</td>\n",
       "      <td>47.3</td>\n",
       "      <td>31.4</td>\n",
       "      <td>0.983</td>\n",
       "      <td>25.516</td>\n",
       "      <td>26526.0</td>\n",
       "      <td>354.0</td>\n",
       "      <td>25.515874</td>\n",
       "      <td>3.55</td>\n",
       "      <td>Machine_Failure</td>\n",
       "    </tr>\n",
       "  </tbody>\n",
       "</table>\n",
       "</div>"
      ],
      "text/plain": [
       "             machine_id assembly_line_no  hydraulic_pressure  \\\n",
       "0  Makino-L1-Unit1-2013     Shopfloor-L1               71.04   \n",
       "1  Makino-L1-Unit1-2013     Shopfloor-L1              125.33   \n",
       "2  Makino-L3-Unit1-2015     Shopfloor-L3               71.12   \n",
       "3  Makino-L2-Unit1-2015     Shopfloor-L2              139.34   \n",
       "4  Makino-L1-Unit1-2013     Shopfloor-L1               60.51   \n",
       "\n",
       "   coolant_pressure  air_system_pressure  coolant_temperature  \\\n",
       "0          6.933725             6.284965                 25.6   \n",
       "1          4.936892             6.196733                 35.3   \n",
       "2          6.839413             6.655448                 13.1   \n",
       "3          4.574382             6.560394                 24.4   \n",
       "4          6.893182             6.141238                  4.1   \n",
       "\n",
       "   hydraulic_oil_temperature  spindle_bearing_temperature  spindle_vibration  \\\n",
       "0                       46.0                         33.4              1.291   \n",
       "1                       47.4                         34.6              1.382   \n",
       "2                       40.7                         33.0              1.319   \n",
       "3                       44.2                         40.6              0.618   \n",
       "4                       47.3                         31.4              0.983   \n",
       "\n",
       "   tool_vibration  spindle_speed  voltage     torque  cutting         downtime  \n",
       "0          26.492        25892.0    335.0  24.055326     3.58  Machine_Failure  \n",
       "1          25.274        19856.0    368.0  14.202890     2.68  Machine_Failure  \n",
       "2          30.608        19851.0    325.0  24.049267     3.55  Machine_Failure  \n",
       "3          30.791        18461.0    360.0  25.860029     3.55  Machine_Failure  \n",
       "4          25.516        26526.0    354.0  25.515874     3.55  Machine_Failure  "
      ]
     },
     "execution_count": 20,
     "metadata": {},
     "output_type": "execute_result"
    }
   ],
   "source": [
    "df.head()"
   ]
  },
  {
   "cell_type": "code",
   "execution_count": 22,
   "id": "52f4751b",
   "metadata": {},
   "outputs": [],
   "source": [
    "from sklearn.preprocessing import LabelEncoder"
   ]
  },
  {
   "cell_type": "code",
   "execution_count": 23,
   "id": "50d95272",
   "metadata": {},
   "outputs": [],
   "source": [
    "lbl = LabelEncoder()\n",
    "df['machine_id'] = lbl.fit_transform(df['machine_id'])\n",
    "df['assembly_line_no'] = lbl.fit_transform(df['assembly_line_no'])\n",
    "df['downtime'] = lbl.fit_transform(df['downtime'])"
   ]
  },
  {
   "cell_type": "code",
   "execution_count": 25,
   "id": "dedb41dd",
   "metadata": {},
   "outputs": [
    {
     "data": {
      "text/html": [
       "<div>\n",
       "<style scoped>\n",
       "    .dataframe tbody tr th:only-of-type {\n",
       "        vertical-align: middle;\n",
       "    }\n",
       "\n",
       "    .dataframe tbody tr th {\n",
       "        vertical-align: top;\n",
       "    }\n",
       "\n",
       "    .dataframe thead th {\n",
       "        text-align: right;\n",
       "    }\n",
       "</style>\n",
       "<table border=\"1\" class=\"dataframe\">\n",
       "  <thead>\n",
       "    <tr style=\"text-align: right;\">\n",
       "      <th></th>\n",
       "      <th>machine_id</th>\n",
       "      <th>assembly_line_no</th>\n",
       "      <th>hydraulic_pressure</th>\n",
       "      <th>coolant_pressure</th>\n",
       "      <th>air_system_pressure</th>\n",
       "      <th>coolant_temperature</th>\n",
       "      <th>hydraulic_oil_temperature</th>\n",
       "      <th>spindle_bearing_temperature</th>\n",
       "      <th>spindle_vibration</th>\n",
       "      <th>tool_vibration</th>\n",
       "      <th>spindle_speed</th>\n",
       "      <th>voltage</th>\n",
       "      <th>torque</th>\n",
       "      <th>cutting</th>\n",
       "      <th>downtime</th>\n",
       "    </tr>\n",
       "  </thead>\n",
       "  <tbody>\n",
       "    <tr>\n",
       "      <th>0</th>\n",
       "      <td>0</td>\n",
       "      <td>0</td>\n",
       "      <td>71.04</td>\n",
       "      <td>6.933725</td>\n",
       "      <td>6.284965</td>\n",
       "      <td>25.6</td>\n",
       "      <td>46.0</td>\n",
       "      <td>33.4</td>\n",
       "      <td>1.291</td>\n",
       "      <td>26.492</td>\n",
       "      <td>25892.0</td>\n",
       "      <td>335.0</td>\n",
       "      <td>24.055326</td>\n",
       "      <td>3.58</td>\n",
       "      <td>0</td>\n",
       "    </tr>\n",
       "    <tr>\n",
       "      <th>1</th>\n",
       "      <td>0</td>\n",
       "      <td>0</td>\n",
       "      <td>125.33</td>\n",
       "      <td>4.936892</td>\n",
       "      <td>6.196733</td>\n",
       "      <td>35.3</td>\n",
       "      <td>47.4</td>\n",
       "      <td>34.6</td>\n",
       "      <td>1.382</td>\n",
       "      <td>25.274</td>\n",
       "      <td>19856.0</td>\n",
       "      <td>368.0</td>\n",
       "      <td>14.202890</td>\n",
       "      <td>2.68</td>\n",
       "      <td>0</td>\n",
       "    </tr>\n",
       "    <tr>\n",
       "      <th>2</th>\n",
       "      <td>2</td>\n",
       "      <td>2</td>\n",
       "      <td>71.12</td>\n",
       "      <td>6.839413</td>\n",
       "      <td>6.655448</td>\n",
       "      <td>13.1</td>\n",
       "      <td>40.7</td>\n",
       "      <td>33.0</td>\n",
       "      <td>1.319</td>\n",
       "      <td>30.608</td>\n",
       "      <td>19851.0</td>\n",
       "      <td>325.0</td>\n",
       "      <td>24.049267</td>\n",
       "      <td>3.55</td>\n",
       "      <td>0</td>\n",
       "    </tr>\n",
       "    <tr>\n",
       "      <th>3</th>\n",
       "      <td>1</td>\n",
       "      <td>1</td>\n",
       "      <td>139.34</td>\n",
       "      <td>4.574382</td>\n",
       "      <td>6.560394</td>\n",
       "      <td>24.4</td>\n",
       "      <td>44.2</td>\n",
       "      <td>40.6</td>\n",
       "      <td>0.618</td>\n",
       "      <td>30.791</td>\n",
       "      <td>18461.0</td>\n",
       "      <td>360.0</td>\n",
       "      <td>25.860029</td>\n",
       "      <td>3.55</td>\n",
       "      <td>0</td>\n",
       "    </tr>\n",
       "    <tr>\n",
       "      <th>4</th>\n",
       "      <td>0</td>\n",
       "      <td>0</td>\n",
       "      <td>60.51</td>\n",
       "      <td>6.893182</td>\n",
       "      <td>6.141238</td>\n",
       "      <td>4.1</td>\n",
       "      <td>47.3</td>\n",
       "      <td>31.4</td>\n",
       "      <td>0.983</td>\n",
       "      <td>25.516</td>\n",
       "      <td>26526.0</td>\n",
       "      <td>354.0</td>\n",
       "      <td>25.515874</td>\n",
       "      <td>3.55</td>\n",
       "      <td>0</td>\n",
       "    </tr>\n",
       "  </tbody>\n",
       "</table>\n",
       "</div>"
      ],
      "text/plain": [
       "   machine_id  assembly_line_no  hydraulic_pressure  coolant_pressure  \\\n",
       "0           0                 0               71.04          6.933725   \n",
       "1           0                 0              125.33          4.936892   \n",
       "2           2                 2               71.12          6.839413   \n",
       "3           1                 1              139.34          4.574382   \n",
       "4           0                 0               60.51          6.893182   \n",
       "\n",
       "   air_system_pressure  coolant_temperature  hydraulic_oil_temperature  \\\n",
       "0             6.284965                 25.6                       46.0   \n",
       "1             6.196733                 35.3                       47.4   \n",
       "2             6.655448                 13.1                       40.7   \n",
       "3             6.560394                 24.4                       44.2   \n",
       "4             6.141238                  4.1                       47.3   \n",
       "\n",
       "   spindle_bearing_temperature  spindle_vibration  tool_vibration  \\\n",
       "0                         33.4              1.291          26.492   \n",
       "1                         34.6              1.382          25.274   \n",
       "2                         33.0              1.319          30.608   \n",
       "3                         40.6              0.618          30.791   \n",
       "4                         31.4              0.983          25.516   \n",
       "\n",
       "   spindle_speed  voltage     torque  cutting  downtime  \n",
       "0        25892.0    335.0  24.055326     3.58         0  \n",
       "1        19856.0    368.0  14.202890     2.68         0  \n",
       "2        19851.0    325.0  24.049267     3.55         0  \n",
       "3        18461.0    360.0  25.860029     3.55         0  \n",
       "4        26526.0    354.0  25.515874     3.55         0  "
      ]
     },
     "execution_count": 25,
     "metadata": {},
     "output_type": "execute_result"
    }
   ],
   "source": [
    "df.head()"
   ]
  },
  {
   "cell_type": "markdown",
   "id": "aa44f217",
   "metadata": {},
   "source": [
    "In Machine Id = Encoding is done as \"Makino-L1-Unit1-2013\" is 0, \"Makino-L2-Unit1-2015\" is 1 and \"Makino-L3-Unit1-2015\" is 2. <br>\n",
    "In Assembly Line No =Encoding is done as \"Shopfloor-L1\" is 0,\"Shopfloor-L2\" is 1 and \"Shopfloor-L3\" is 2.<br>\n",
    "In Downtime = Machine Failure is encoded as 0 and No failure is encoded as 1."
   ]
  },
  {
   "cell_type": "code",
   "execution_count": 26,
   "id": "d5a60283",
   "metadata": {},
   "outputs": [
    {
     "data": {
      "text/html": [
       "<div>\n",
       "<style scoped>\n",
       "    .dataframe tbody tr th:only-of-type {\n",
       "        vertical-align: middle;\n",
       "    }\n",
       "\n",
       "    .dataframe tbody tr th {\n",
       "        vertical-align: top;\n",
       "    }\n",
       "\n",
       "    .dataframe thead th {\n",
       "        text-align: right;\n",
       "    }\n",
       "</style>\n",
       "<table border=\"1\" class=\"dataframe\">\n",
       "  <thead>\n",
       "    <tr style=\"text-align: right;\">\n",
       "      <th></th>\n",
       "      <th>machine_id</th>\n",
       "      <th>assembly_line_no</th>\n",
       "      <th>hydraulic_pressure</th>\n",
       "      <th>coolant_pressure</th>\n",
       "      <th>air_system_pressure</th>\n",
       "      <th>coolant_temperature</th>\n",
       "      <th>hydraulic_oil_temperature</th>\n",
       "      <th>spindle_bearing_temperature</th>\n",
       "      <th>spindle_vibration</th>\n",
       "      <th>tool_vibration</th>\n",
       "      <th>spindle_speed</th>\n",
       "      <th>voltage</th>\n",
       "      <th>torque</th>\n",
       "      <th>cutting</th>\n",
       "      <th>downtime</th>\n",
       "    </tr>\n",
       "  </thead>\n",
       "  <tbody>\n",
       "    <tr>\n",
       "      <th>machine_id</th>\n",
       "      <td>1.000000</td>\n",
       "      <td>1.000000</td>\n",
       "      <td>0.007507</td>\n",
       "      <td>-0.004401</td>\n",
       "      <td>-0.014719</td>\n",
       "      <td>-0.009605</td>\n",
       "      <td>-0.000059</td>\n",
       "      <td>0.019720</td>\n",
       "      <td>0.019700</td>\n",
       "      <td>0.012976</td>\n",
       "      <td>-0.019431</td>\n",
       "      <td>0.006094</td>\n",
       "      <td>0.041018</td>\n",
       "      <td>0.004430</td>\n",
       "      <td>0.010375</td>\n",
       "    </tr>\n",
       "    <tr>\n",
       "      <th>assembly_line_no</th>\n",
       "      <td>1.000000</td>\n",
       "      <td>1.000000</td>\n",
       "      <td>0.007507</td>\n",
       "      <td>-0.004401</td>\n",
       "      <td>-0.014719</td>\n",
       "      <td>-0.009605</td>\n",
       "      <td>-0.000059</td>\n",
       "      <td>0.019720</td>\n",
       "      <td>0.019700</td>\n",
       "      <td>0.012976</td>\n",
       "      <td>-0.019431</td>\n",
       "      <td>0.006094</td>\n",
       "      <td>0.041018</td>\n",
       "      <td>0.004430</td>\n",
       "      <td>0.010375</td>\n",
       "    </tr>\n",
       "    <tr>\n",
       "      <th>hydraulic_pressure</th>\n",
       "      <td>0.007507</td>\n",
       "      <td>0.007507</td>\n",
       "      <td>1.000000</td>\n",
       "      <td>-0.074251</td>\n",
       "      <td>-0.029679</td>\n",
       "      <td>-0.110929</td>\n",
       "      <td>0.008604</td>\n",
       "      <td>0.022410</td>\n",
       "      <td>-0.006290</td>\n",
       "      <td>0.020873</td>\n",
       "      <td>-0.119989</td>\n",
       "      <td>-0.004040</td>\n",
       "      <td>0.161725</td>\n",
       "      <td>-0.221372</td>\n",
       "      <td>0.557075</td>\n",
       "    </tr>\n",
       "    <tr>\n",
       "      <th>coolant_pressure</th>\n",
       "      <td>-0.004401</td>\n",
       "      <td>-0.004401</td>\n",
       "      <td>-0.074251</td>\n",
       "      <td>1.000000</td>\n",
       "      <td>-0.028572</td>\n",
       "      <td>0.008164</td>\n",
       "      <td>0.001264</td>\n",
       "      <td>-0.012652</td>\n",
       "      <td>0.005619</td>\n",
       "      <td>-0.005019</td>\n",
       "      <td>0.088583</td>\n",
       "      <td>0.030963</td>\n",
       "      <td>-0.102941</td>\n",
       "      <td>0.168043</td>\n",
       "      <td>-0.171003</td>\n",
       "    </tr>\n",
       "    <tr>\n",
       "      <th>air_system_pressure</th>\n",
       "      <td>-0.014719</td>\n",
       "      <td>-0.014719</td>\n",
       "      <td>-0.029679</td>\n",
       "      <td>-0.028572</td>\n",
       "      <td>1.000000</td>\n",
       "      <td>0.048462</td>\n",
       "      <td>-0.025744</td>\n",
       "      <td>0.009832</td>\n",
       "      <td>0.008786</td>\n",
       "      <td>0.045392</td>\n",
       "      <td>-0.001628</td>\n",
       "      <td>0.006638</td>\n",
       "      <td>0.036527</td>\n",
       "      <td>-0.000813</td>\n",
       "      <td>-0.009182</td>\n",
       "    </tr>\n",
       "    <tr>\n",
       "      <th>coolant_temperature</th>\n",
       "      <td>-0.009605</td>\n",
       "      <td>-0.009605</td>\n",
       "      <td>-0.110929</td>\n",
       "      <td>0.008164</td>\n",
       "      <td>0.048462</td>\n",
       "      <td>1.000000</td>\n",
       "      <td>0.004371</td>\n",
       "      <td>-0.017203</td>\n",
       "      <td>0.012173</td>\n",
       "      <td>0.006582</td>\n",
       "      <td>0.072872</td>\n",
       "      <td>0.011329</td>\n",
       "      <td>-0.070351</td>\n",
       "      <td>0.096698</td>\n",
       "      <td>-0.168816</td>\n",
       "    </tr>\n",
       "    <tr>\n",
       "      <th>hydraulic_oil_temperature</th>\n",
       "      <td>-0.000059</td>\n",
       "      <td>-0.000059</td>\n",
       "      <td>0.008604</td>\n",
       "      <td>0.001264</td>\n",
       "      <td>-0.025744</td>\n",
       "      <td>0.004371</td>\n",
       "      <td>1.000000</td>\n",
       "      <td>0.040655</td>\n",
       "      <td>-0.006102</td>\n",
       "      <td>-0.015458</td>\n",
       "      <td>0.004935</td>\n",
       "      <td>0.026717</td>\n",
       "      <td>-0.006693</td>\n",
       "      <td>-0.019806</td>\n",
       "      <td>0.012606</td>\n",
       "    </tr>\n",
       "    <tr>\n",
       "      <th>spindle_bearing_temperature</th>\n",
       "      <td>0.019720</td>\n",
       "      <td>0.019720</td>\n",
       "      <td>0.022410</td>\n",
       "      <td>-0.012652</td>\n",
       "      <td>0.009832</td>\n",
       "      <td>-0.017203</td>\n",
       "      <td>0.040655</td>\n",
       "      <td>1.000000</td>\n",
       "      <td>-0.035360</td>\n",
       "      <td>-0.007189</td>\n",
       "      <td>0.030230</td>\n",
       "      <td>0.015029</td>\n",
       "      <td>-0.003241</td>\n",
       "      <td>0.003088</td>\n",
       "      <td>0.019444</td>\n",
       "    </tr>\n",
       "    <tr>\n",
       "      <th>spindle_vibration</th>\n",
       "      <td>0.019700</td>\n",
       "      <td>0.019700</td>\n",
       "      <td>-0.006290</td>\n",
       "      <td>0.005619</td>\n",
       "      <td>0.008786</td>\n",
       "      <td>0.012173</td>\n",
       "      <td>-0.006102</td>\n",
       "      <td>-0.035360</td>\n",
       "      <td>1.000000</td>\n",
       "      <td>-0.019327</td>\n",
       "      <td>0.018679</td>\n",
       "      <td>0.005339</td>\n",
       "      <td>0.027937</td>\n",
       "      <td>-0.018666</td>\n",
       "      <td>0.016628</td>\n",
       "    </tr>\n",
       "    <tr>\n",
       "      <th>tool_vibration</th>\n",
       "      <td>0.012976</td>\n",
       "      <td>0.012976</td>\n",
       "      <td>0.020873</td>\n",
       "      <td>-0.005019</td>\n",
       "      <td>0.045392</td>\n",
       "      <td>0.006582</td>\n",
       "      <td>-0.015458</td>\n",
       "      <td>-0.007189</td>\n",
       "      <td>-0.019327</td>\n",
       "      <td>1.000000</td>\n",
       "      <td>0.008341</td>\n",
       "      <td>0.021861</td>\n",
       "      <td>-0.019021</td>\n",
       "      <td>-0.038439</td>\n",
       "      <td>0.005876</td>\n",
       "    </tr>\n",
       "    <tr>\n",
       "      <th>spindle_speed</th>\n",
       "      <td>-0.019431</td>\n",
       "      <td>-0.019431</td>\n",
       "      <td>-0.119989</td>\n",
       "      <td>0.088583</td>\n",
       "      <td>-0.001628</td>\n",
       "      <td>0.072872</td>\n",
       "      <td>0.004935</td>\n",
       "      <td>0.030230</td>\n",
       "      <td>0.018679</td>\n",
       "      <td>0.008341</td>\n",
       "      <td>1.000000</td>\n",
       "      <td>-0.018359</td>\n",
       "      <td>-0.193490</td>\n",
       "      <td>0.230342</td>\n",
       "      <td>-0.274788</td>\n",
       "    </tr>\n",
       "    <tr>\n",
       "      <th>voltage</th>\n",
       "      <td>0.006094</td>\n",
       "      <td>0.006094</td>\n",
       "      <td>-0.004040</td>\n",
       "      <td>0.030963</td>\n",
       "      <td>0.006638</td>\n",
       "      <td>0.011329</td>\n",
       "      <td>0.026717</td>\n",
       "      <td>0.015029</td>\n",
       "      <td>0.005339</td>\n",
       "      <td>0.021861</td>\n",
       "      <td>-0.018359</td>\n",
       "      <td>1.000000</td>\n",
       "      <td>0.006860</td>\n",
       "      <td>-0.043253</td>\n",
       "      <td>-0.005899</td>\n",
       "    </tr>\n",
       "    <tr>\n",
       "      <th>torque</th>\n",
       "      <td>0.041018</td>\n",
       "      <td>0.041018</td>\n",
       "      <td>0.161725</td>\n",
       "      <td>-0.102941</td>\n",
       "      <td>0.036527</td>\n",
       "      <td>-0.070351</td>\n",
       "      <td>-0.006693</td>\n",
       "      <td>-0.003241</td>\n",
       "      <td>0.027937</td>\n",
       "      <td>-0.019021</td>\n",
       "      <td>-0.193490</td>\n",
       "      <td>0.006860</td>\n",
       "      <td>1.000000</td>\n",
       "      <td>-0.179509</td>\n",
       "      <td>0.406778</td>\n",
       "    </tr>\n",
       "    <tr>\n",
       "      <th>cutting</th>\n",
       "      <td>0.004430</td>\n",
       "      <td>0.004430</td>\n",
       "      <td>-0.221372</td>\n",
       "      <td>0.168043</td>\n",
       "      <td>-0.000813</td>\n",
       "      <td>0.096698</td>\n",
       "      <td>-0.019806</td>\n",
       "      <td>0.003088</td>\n",
       "      <td>-0.018666</td>\n",
       "      <td>-0.038439</td>\n",
       "      <td>0.230342</td>\n",
       "      <td>-0.043253</td>\n",
       "      <td>-0.179509</td>\n",
       "      <td>1.000000</td>\n",
       "      <td>-0.449456</td>\n",
       "    </tr>\n",
       "    <tr>\n",
       "      <th>downtime</th>\n",
       "      <td>0.010375</td>\n",
       "      <td>0.010375</td>\n",
       "      <td>0.557075</td>\n",
       "      <td>-0.171003</td>\n",
       "      <td>-0.009182</td>\n",
       "      <td>-0.168816</td>\n",
       "      <td>0.012606</td>\n",
       "      <td>0.019444</td>\n",
       "      <td>0.016628</td>\n",
       "      <td>0.005876</td>\n",
       "      <td>-0.274788</td>\n",
       "      <td>-0.005899</td>\n",
       "      <td>0.406778</td>\n",
       "      <td>-0.449456</td>\n",
       "      <td>1.000000</td>\n",
       "    </tr>\n",
       "  </tbody>\n",
       "</table>\n",
       "</div>"
      ],
      "text/plain": [
       "                             machine_id  assembly_line_no  hydraulic_pressure  \\\n",
       "machine_id                     1.000000          1.000000            0.007507   \n",
       "assembly_line_no               1.000000          1.000000            0.007507   \n",
       "hydraulic_pressure             0.007507          0.007507            1.000000   \n",
       "coolant_pressure              -0.004401         -0.004401           -0.074251   \n",
       "air_system_pressure           -0.014719         -0.014719           -0.029679   \n",
       "coolant_temperature           -0.009605         -0.009605           -0.110929   \n",
       "hydraulic_oil_temperature     -0.000059         -0.000059            0.008604   \n",
       "spindle_bearing_temperature    0.019720          0.019720            0.022410   \n",
       "spindle_vibration              0.019700          0.019700           -0.006290   \n",
       "tool_vibration                 0.012976          0.012976            0.020873   \n",
       "spindle_speed                 -0.019431         -0.019431           -0.119989   \n",
       "voltage                        0.006094          0.006094           -0.004040   \n",
       "torque                         0.041018          0.041018            0.161725   \n",
       "cutting                        0.004430          0.004430           -0.221372   \n",
       "downtime                       0.010375          0.010375            0.557075   \n",
       "\n",
       "                             coolant_pressure  air_system_pressure  \\\n",
       "machine_id                          -0.004401            -0.014719   \n",
       "assembly_line_no                    -0.004401            -0.014719   \n",
       "hydraulic_pressure                  -0.074251            -0.029679   \n",
       "coolant_pressure                     1.000000            -0.028572   \n",
       "air_system_pressure                 -0.028572             1.000000   \n",
       "coolant_temperature                  0.008164             0.048462   \n",
       "hydraulic_oil_temperature            0.001264            -0.025744   \n",
       "spindle_bearing_temperature         -0.012652             0.009832   \n",
       "spindle_vibration                    0.005619             0.008786   \n",
       "tool_vibration                      -0.005019             0.045392   \n",
       "spindle_speed                        0.088583            -0.001628   \n",
       "voltage                              0.030963             0.006638   \n",
       "torque                              -0.102941             0.036527   \n",
       "cutting                              0.168043            -0.000813   \n",
       "downtime                            -0.171003            -0.009182   \n",
       "\n",
       "                             coolant_temperature  hydraulic_oil_temperature  \\\n",
       "machine_id                             -0.009605                  -0.000059   \n",
       "assembly_line_no                       -0.009605                  -0.000059   \n",
       "hydraulic_pressure                     -0.110929                   0.008604   \n",
       "coolant_pressure                        0.008164                   0.001264   \n",
       "air_system_pressure                     0.048462                  -0.025744   \n",
       "coolant_temperature                     1.000000                   0.004371   \n",
       "hydraulic_oil_temperature               0.004371                   1.000000   \n",
       "spindle_bearing_temperature            -0.017203                   0.040655   \n",
       "spindle_vibration                       0.012173                  -0.006102   \n",
       "tool_vibration                          0.006582                  -0.015458   \n",
       "spindle_speed                           0.072872                   0.004935   \n",
       "voltage                                 0.011329                   0.026717   \n",
       "torque                                 -0.070351                  -0.006693   \n",
       "cutting                                 0.096698                  -0.019806   \n",
       "downtime                               -0.168816                   0.012606   \n",
       "\n",
       "                             spindle_bearing_temperature  spindle_vibration  \\\n",
       "machine_id                                      0.019720           0.019700   \n",
       "assembly_line_no                                0.019720           0.019700   \n",
       "hydraulic_pressure                              0.022410          -0.006290   \n",
       "coolant_pressure                               -0.012652           0.005619   \n",
       "air_system_pressure                             0.009832           0.008786   \n",
       "coolant_temperature                            -0.017203           0.012173   \n",
       "hydraulic_oil_temperature                       0.040655          -0.006102   \n",
       "spindle_bearing_temperature                     1.000000          -0.035360   \n",
       "spindle_vibration                              -0.035360           1.000000   \n",
       "tool_vibration                                 -0.007189          -0.019327   \n",
       "spindle_speed                                   0.030230           0.018679   \n",
       "voltage                                         0.015029           0.005339   \n",
       "torque                                         -0.003241           0.027937   \n",
       "cutting                                         0.003088          -0.018666   \n",
       "downtime                                        0.019444           0.016628   \n",
       "\n",
       "                             tool_vibration  spindle_speed   voltage  \\\n",
       "machine_id                         0.012976      -0.019431  0.006094   \n",
       "assembly_line_no                   0.012976      -0.019431  0.006094   \n",
       "hydraulic_pressure                 0.020873      -0.119989 -0.004040   \n",
       "coolant_pressure                  -0.005019       0.088583  0.030963   \n",
       "air_system_pressure                0.045392      -0.001628  0.006638   \n",
       "coolant_temperature                0.006582       0.072872  0.011329   \n",
       "hydraulic_oil_temperature         -0.015458       0.004935  0.026717   \n",
       "spindle_bearing_temperature       -0.007189       0.030230  0.015029   \n",
       "spindle_vibration                 -0.019327       0.018679  0.005339   \n",
       "tool_vibration                     1.000000       0.008341  0.021861   \n",
       "spindle_speed                      0.008341       1.000000 -0.018359   \n",
       "voltage                            0.021861      -0.018359  1.000000   \n",
       "torque                            -0.019021      -0.193490  0.006860   \n",
       "cutting                           -0.038439       0.230342 -0.043253   \n",
       "downtime                           0.005876      -0.274788 -0.005899   \n",
       "\n",
       "                               torque   cutting  downtime  \n",
       "machine_id                   0.041018  0.004430  0.010375  \n",
       "assembly_line_no             0.041018  0.004430  0.010375  \n",
       "hydraulic_pressure           0.161725 -0.221372  0.557075  \n",
       "coolant_pressure            -0.102941  0.168043 -0.171003  \n",
       "air_system_pressure          0.036527 -0.000813 -0.009182  \n",
       "coolant_temperature         -0.070351  0.096698 -0.168816  \n",
       "hydraulic_oil_temperature   -0.006693 -0.019806  0.012606  \n",
       "spindle_bearing_temperature -0.003241  0.003088  0.019444  \n",
       "spindle_vibration            0.027937 -0.018666  0.016628  \n",
       "tool_vibration              -0.019021 -0.038439  0.005876  \n",
       "spindle_speed               -0.193490  0.230342 -0.274788  \n",
       "voltage                      0.006860 -0.043253 -0.005899  \n",
       "torque                       1.000000 -0.179509  0.406778  \n",
       "cutting                     -0.179509  1.000000 -0.449456  \n",
       "downtime                     0.406778 -0.449456  1.000000  "
      ]
     },
     "execution_count": 26,
     "metadata": {},
     "output_type": "execute_result"
    }
   ],
   "source": [
    "df.corr()"
   ]
  },
  {
   "cell_type": "markdown",
   "id": "6787a0ea",
   "metadata": {},
   "source": [
    "According to correlation matrix we can check the factors most dominantly affecting the downtime are (in descending order) : <br>\n",
    "Hydraulic Pressure, Cutting, Torque, Spindle Speed, Coolant Pressure, Coolant temperature etc.<br>\n",
    "So, we can ignore other columns and still get good insights."
   ]
  },
  {
   "cell_type": "code",
   "execution_count": 28,
   "id": "e8b7cfbf",
   "metadata": {},
   "outputs": [
    {
     "data": {
      "text/plain": [
       "<Axes: xlabel='hydraulic_pressure', ylabel='Count'>"
      ]
     },
     "execution_count": 28,
     "metadata": {},
     "output_type": "execute_result"
    },
    {
     "data": {
      "image/png": "[encoded data removed]",
      "text/plain": [
       "<Figure size 640x480 with 1 Axes>"
      ]
     },
     "metadata": {},
     "output_type": "display_data"
    }
   ],
   "source": [
    "sns.histplot(df['hydraulic_pressure'])"
   ]
  },
  {
   "cell_type": "code",
   "execution_count": 29,
   "id": "03e29275",
   "metadata": {},
   "outputs": [
    {
     "data": {
      "text/plain": [
       "<Axes: xlabel='cutting', ylabel='Count'>"
      ]
     },
     "execution_count": 29,
     "metadata": {},
     "output_type": "execute_result"
    },
    {
     "data": {
      "image/png": "[encoded data removed]",
      "text/plain": [
       "<Figure size 640x480 with 1 Axes>"
      ]
     },
     "metadata": {},
     "output_type": "display_data"
    }
   ],
   "source": [
    "sns.histplot(df['cutting'])"
   ]
  },
  {
   "cell_type": "code",
   "execution_count": 30,
   "id": "e75a7e5a",
   "metadata": {},
   "outputs": [
    {
     "data": {
      "text/plain": [
       "<Axes: xlabel='torque', ylabel='Count'>"
      ]
     },
     "execution_count": 30,
     "metadata": {},
     "output_type": "execute_result"
    },
    {
     "data": {
      "image/png": "[encoded data removed]",
      "text/plain": [
       "<Figure size 640x480 with 1 Axes>"
      ]
     },
     "metadata": {},
     "output_type": "display_data"
    }
   ],
   "source": [
    "sns.histplot(df['torque'])"
   ]
  },
  {
   "cell_type": "code",
   "execution_count": 31,
   "id": "d7eac067",
   "metadata": {},
   "outputs": [
    {
     "data": {
      "text/plain": [
       "<Axes: xlabel='spindle_speed', ylabel='Count'>"
      ]
     },
     "execution_count": 31,
     "metadata": {},
     "output_type": "execute_result"
    },
    {
     "data": {
      "image/png": "[encoded data removed]",
      "text/plain": [
       "<Figure size 640x480 with 1 Axes>"
      ]
     },
     "metadata": {},
     "output_type": "display_data"
    }
   ],
   "source": [
    "sns.histplot(df['spindle_speed'])"
   ]
  },
  {
   "cell_type": "code",
   "execution_count": 32,
   "id": "57cac75e",
   "metadata": {},
   "outputs": [
    {
     "data": {
      "text/plain": [
       "<Axes: xlabel='coolant_pressure', ylabel='Count'>"
      ]
     },
     "execution_count": 32,
     "metadata": {},
     "output_type": "execute_result"
    },
    {
     "data": {
      "image/png": "[encoded data removed]",
      "text/plain": [
       "<Figure size 640x480 with 1 Axes>"
      ]
     },
     "metadata": {},
     "output_type": "display_data"
    }
   ],
   "source": [
    "sns.histplot(df['coolant_pressure'])"
   ]
  },
  {
   "cell_type": "code",
   "execution_count": 33,
   "id": "60c650fe",
   "metadata": {},
   "outputs": [
    {
     "data": {
      "text/plain": [
       "<Axes: xlabel='coolant_temperature', ylabel='Count'>"
      ]
     },
     "execution_count": 33,
     "metadata": {},
     "output_type": "execute_result"
    },
    {
     "data": {
      "image/png": "[encoded data removed]",
      "text/plain": [
       "<Figure size 640x480 with 1 Axes>"
      ]
     },
     "metadata": {},
     "output_type": "display_data"
    }
   ],
   "source": [
    "sns.histplot(df['coolant_temperature'])"
   ]
  },
  {
   "cell_type": "code",
   "execution_count": 34,
   "id": "3073ef1f",
   "metadata": {},
   "outputs": [
    {
     "data": {
      "image/png": "[encoded data removed]",
      "text/plain": [
       "<Figure size 640x480 with 1 Axes>"
      ]
     },
     "metadata": {},
     "output_type": "display_data"
    }
   ],
   "source": [
    "x = df['downtime'].value_counts()\n",
    "plt.pie(x.values,\n",
    "        labels=x.index,\n",
    "        autopct='%1.1f%%')\n",
    "plt.show()"
   ]
  },
  {
   "cell_type": "code",
   "execution_count": 35,
   "id": "e581ae08",
   "metadata": {},
   "outputs": [
    {
     "data": {
      "text/plain": [
       "<Axes: xlabel='downtime', ylabel='hydraulic_pressure'>"
      ]
     },
     "execution_count": 35,
     "metadata": {},
     "output_type": "execute_result"
    },
    {
     "data": {
      "image/png": "[encoded data removed]",
      "text/plain": [
       "<Figure size 1500x500 with 1 Axes>"
      ]
     },
     "metadata": {},
     "output_type": "display_data"
    }
   ],
   "source": [
    "plt.figure(figsize=(15, 5))\n",
    "sns.barplot(x=df['downtime'], y=df['hydraulic_pressure'])"
   ]
  },
  {
   "cell_type": "code",
   "execution_count": 36,
   "id": "d56ac4c1",
   "metadata": {},
   "outputs": [
    {
     "data": {
      "text/plain": [
       "<Axes: xlabel='downtime', ylabel='cutting'>"
      ]
     },
     "execution_count": 36,
     "metadata": {},
     "output_type": "execute_result"
    },
    {
     "data": {
      "image/png": "[encoded data removed]",
      "text/plain": [
       "<Figure size 1500x500 with 1 Axes>"
      ]
     },
     "metadata": {},
     "output_type": "display_data"
    }
   ],
   "source": [
    "plt.figure(figsize=(15, 5))\n",
    "sns.barplot(x=df['downtime'], y=df['cutting'])"
   ]
  },
  {
   "cell_type": "code",
   "execution_count": 37,
   "id": "051967fd",
   "metadata": {},
   "outputs": [
    {
     "data": {
      "text/plain": [
       "<Axes: xlabel='downtime', ylabel='torque'>"
      ]
     },
     "execution_count": 37,
     "metadata": {},
     "output_type": "execute_result"
    },
    {
     "data": {
      "image/png": "[encoded data removed]",
      "text/plain": [
       "<Figure size 1500x500 with 1 Axes>"
      ]
     },
     "metadata": {},
     "output_type": "display_data"
    }
   ],
   "source": [
    "plt.figure(figsize=(15, 5))\n",
    "sns.barplot(x=df['downtime'], y=df['torque'])"
   ]
  },
  {
   "cell_type": "code",
   "execution_count": 38,
   "id": "47fff94a",
   "metadata": {},
   "outputs": [
    {
     "data": {
      "text/plain": [
       "<Axes: xlabel='downtime', ylabel='spindle_speed'>"
      ]
     },
     "execution_count": 38,
     "metadata": {},
     "output_type": "execute_result"
    },
    {
     "data": {
      "image/png": "[encoded data removed]",
      "text/plain": [
       "<Figure size 1500x500 with 1 Axes>"
      ]
     },
     "metadata": {},
     "output_type": "display_data"
    }
   ],
   "source": [
    "plt.figure(figsize=(15, 5))\n",
    "sns.barplot(x=df['downtime'], y=df['spindle_speed'])"
   ]
  },
  {
   "cell_type": "code",
   "execution_count": 39,
   "id": "7aeec651",
   "metadata": {},
   "outputs": [
    {
     "data": {
      "text/plain": [
       "<Axes: xlabel='downtime', ylabel='coolant_pressure'>"
      ]
     },
     "execution_count": 39,
     "metadata": {},
     "output_type": "execute_result"
    },
    {
     "data": {
      "image/png": "[encoded data removed]",
      "text/plain": [
       "<Figure size 1500x500 with 1 Axes>"
      ]
     },
     "metadata": {},
     "output_type": "display_data"
    }
   ],
   "source": [
    "plt.figure(figsize=(15, 5))\n",
    "sns.barplot(x=df['downtime'], y=df['coolant_pressure'])"
   ]
  },
  {
   "cell_type": "code",
   "execution_count": 40,
   "id": "7bae072c",
   "metadata": {},
   "outputs": [
    {
     "data": {
      "text/plain": [
       "<Axes: xlabel='downtime', ylabel='coolant_temperature'>"
      ]
     },
     "execution_count": 40,
     "metadata": {},
     "output_type": "execute_result"
    },
    {
     "data": {
      "image/png": "[encoded data removed]",
      "text/plain": [
       "<Figure size 1500x500 with 1 Axes>"
      ]
     },
     "metadata": {},
     "output_type": "display_data"
    }
   ],
   "source": [
    "plt.figure(figsize=(15, 5))\n",
    "sns.barplot(x=df['downtime'], y=df['coolant_temperature'])"
   ]
  },
  {
   "cell_type": "code",
   "execution_count": 41,
   "id": "b75187ab",
   "metadata": {},
   "outputs": [],
   "source": [
    "df2 = df.drop(['machine_id','assembly_line_no','air_system_pressure','hydraulic_oil_temperature','spindle_bearing_temperature','spindle_vibration','tool_vibration','voltage'], axis = 1)"
   ]
  },
  {
   "cell_type": "code",
   "execution_count": 42,
   "id": "15db4ce1",
   "metadata": {},
   "outputs": [
    {
     "data": {
      "text/plain": [
       "<Axes: >"
      ]
     },
     "execution_count": 42,
     "metadata": {},
     "output_type": "execute_result"
    },
    {
     "data": {
      "image/png": "[encoded data removed]",
      "text/plain": [
       "<Figure size 640x480 with 2 Axes>"
      ]
     },
     "metadata": {},
     "output_type": "display_data"
    }
   ],
   "source": [
    "sns.heatmap(df2.corr(), annot=True)"
   ]
  }
 ],
 "metadata": {
  "kernelspec": {
   "display_name": "Python 3 (ipykernel)",
   "language": "python",
   "name": "python3"
  },
  "language_info": {
   "codemirror_mode": {
    "name": "ipython",
    "version": 3
   },
   "file_extension": ".py",
   "mimetype": "text/x-python",
   "name": "python",
   "nbconvert_exporter": "python",
   "pygments_lexer": "ipython3",
   "version": "3.10.9"
  }
 },
 "nbformat": 4,
 "nbformat_minor": 5
}
